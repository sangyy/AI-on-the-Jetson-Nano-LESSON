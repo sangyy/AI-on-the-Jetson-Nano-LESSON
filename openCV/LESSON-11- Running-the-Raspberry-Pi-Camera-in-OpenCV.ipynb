{
 "cells": [
  {
   "cell_type": "code",
   "execution_count": 1,
   "metadata": {},
   "outputs": [
    {
     "name": "stdout",
     "output_type": "stream",
     "text": [
      "[sudo] password for dlinano: \n"
     ]
    }
   ],
   "source": [
    "!echo 'dlinano' | sudo -S systemctl restart nvargus-daemon && printf '\\n'"
   ]
  },
  {
   "cell_type": "code",
   "execution_count": 1,
   "metadata": {},
   "outputs": [],
   "source": [
    "import cv2"
   ]
  },
  {
   "cell_type": "code",
   "execution_count": 2,
   "metadata": {},
   "outputs": [
    {
     "name": "stdout",
     "output_type": "stream",
     "text": [
      "4.1.1\n"
     ]
    }
   ],
   "source": [
    "print(cv2.__version__)"
   ]
  },
  {
   "cell_type": "code",
   "execution_count": 4,
   "metadata": {},
   "outputs": [],
   "source": [
    "# from jetcam.csi_camera import CSICamera\n",
    "\n",
    "# camera0 = CSICamera(capture_device=0, width=224, height=224)\n",
    "# camera1 = CSICamera(capture_device=1, width=224, height=224)"
   ]
  },
  {
   "cell_type": "code",
   "execution_count": 5,
   "metadata": {},
   "outputs": [],
   "source": [
    "from jetcam.csi_camera import CSICamera\n",
    "\n",
    "camera = CSICamera(width=224, height=224)"
   ]
  },
  {
   "cell_type": "code",
   "execution_count": 6,
   "metadata": {},
   "outputs": [
    {
     "name": "stdout",
     "output_type": "stream",
     "text": [
      "(224, 224, 3)\n"
     ]
    }
   ],
   "source": [
    "image=camera.read()\n",
    "print(image.shape)\n"
   ]
  },
  {
   "cell_type": "code",
   "execution_count": 7,
   "metadata": {},
   "outputs": [
    {
     "data": {
      "application/vnd.jupyter.widget-view+json": {
       "model_id": "b7e2c0c0b2c345dab60a438af2afc9f1",
       "version_major": 2,
       "version_minor": 0
      },
      "text/plain": [
       "VBox(children=(HBox(children=(Image(value=b'\\xff\\xd8\\xff\\xe0\\x00\\x10JFIF\\x00\\x01\\x01\\x00\\x00\\x01\\x00\\x01\\x00\\x…"
      ]
     },
     "metadata": {},
     "output_type": "display_data"
    }
   ],
   "source": [
    "import ipywidgets\n",
    "from IPython.display import display\n",
    "from jetcam.utils import bgr8_to_jpeg\n",
    "\n",
    "image_widget = ipywidgets.Image(format='jpeg')\n",
    "cv2_image_widget=ipywidgets.Image(format='jpeg')\n",
    "gray_image_widget=ipywidgets.Image(format='jpeg')\n",
    "edge_image_widget=ipywidgets.Image(format='jpeg')\n",
    "    \n",
    "gray_image_widget.value=bgr8_to_jpeg(image)\n",
    "edge_image_widget.value=bgr8_to_jpeg(image)    \n",
    "image_widget.value = bgr8_to_jpeg(image)\n",
    "cv2_image_widget.value=bgr8_to_jpeg(image)\n",
    "\n",
    "all_widget = ipywidgets.VBox([\n",
    "    ipywidgets.HBox([image_widget,gray_image_widget]),\n",
    "     ipywidgets.HBox([cv2_image_widget,edge_image_widget])\n",
    "])\n",
    "display(all_widget)"
   ]
  },
  {
   "cell_type": "code",
   "execution_count": 17,
   "metadata": {},
   "outputs": [],
   "source": [
    "def detect(frame):\n",
    "    #加载人脸识别的XML分类器\n",
    "    cascPath = \"/home/dlinano/opencv/data/haarcascades/haarcascade_frontalface_default.xml\"\n",
    "    faceCascade = cv2.CascadeClassifier(cascPath)\n",
    "    #将传入的图像转换为灰度模式\n",
    "    gray = cv2.cvtColor(frame, cv2.COLOR_BGR2GRAY)\n",
    "    #通过gray_image_widget展示灰度图像\n",
    "#     gray_image_widget.value = bgr8_to_jpeg(gray)\n",
    "    #执行人脸识别，detectMultiScale函数的详细说明见教材85页“多尺度检测”\n",
    "    faces = faceCascade.detectMultiScale(gray, scaleFactor=1.1,minNeighbors=5)\n",
    "    #打印识别到的人脸数量并绘画到传入的图像中\n",
    "#     print(\"Found {0} facse!\".format(len(faces)))\n",
    "    cv2.putText(frame,\"Found {0} facse!\".format(len(faces)),(0,14),cv2.FONT_HERSHEY_SIMPLEX,0.5,(255,255,255),2)\n",
    "    for(x,y,w,h) in faces:\n",
    "        cv2.rectangle(frame, (x,y), (x+w,y+h), (0,255,0), 2)\n",
    "    return gray"
   ]
  },
  {
   "cell_type": "code",
   "execution_count": 9,
   "metadata": {},
   "outputs": [],
   "source": [
    "def edge(frame):\n",
    "    edges = cv2.Canny(frame, 100, 200)\n",
    "    return edges"
   ]
  },
  {
   "cell_type": "code",
   "execution_count": 10,
   "metadata": {},
   "outputs": [],
   "source": [
    "camera.running = True\n",
    "\n",
    "def update_image(change):\n",
    "    image = change['new']\n",
    "    edges=edge(image)\n",
    "    edge_image_widget.value=bgr8_to_jpeg(edges)\n",
    "    image_widget.value = bgr8_to_jpeg(image)\n",
    "    gray=detect(image)\n",
    "    cv2_image_widget.value=bgr8_to_jpeg(image)\n",
    "    gray_image_widget.value=bgr8_to_jpeg(gray)\n",
    "    \n",
    "    \n",
    "camera.observe(update_image, names='value')"
   ]
  },
  {
   "cell_type": "code",
   "execution_count": null,
   "metadata": {},
   "outputs": [],
   "source": [
    "camera.unobserve(update_image, names='value')"
   ]
  },
  {
   "cell_type": "code",
   "execution_count": null,
   "metadata": {},
   "outputs": [],
   "source": []
  },
  {
   "cell_type": "code",
   "execution_count": null,
   "metadata": {},
   "outputs": [],
   "source": []
  }
 ],
 "metadata": {
  "kernelspec": {
   "display_name": "Python 3",
   "language": "python",
   "name": "python3"
  },
  "language_info": {
   "codemirror_mode": {
    "name": "ipython",
    "version": 3
   },
   "file_extension": ".py",
   "mimetype": "text/x-python",
   "name": "python",
   "nbconvert_exporter": "python",
   "pygments_lexer": "ipython3",
   "version": "3.6.9"
  }
 },
 "nbformat": 4,
 "nbformat_minor": 4
}
